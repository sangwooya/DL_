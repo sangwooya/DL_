{
  "nbformat": 4,
  "nbformat_minor": 0,
  "metadata": {
    "colab": {
      "provenance": [],
      "include_colab_link": true
    },
    "kernelspec": {
      "name": "python3",
      "display_name": "Python 3"
    }
  },
  "cells": [
    {
      "cell_type": "markdown",
      "metadata": {
        "id": "view-in-github",
        "colab_type": "text"
      },
      "source": [
        "<a href=\"https://colab.research.google.com/github/sangwooya/DL_/blob/main/Perceptron_OR_operator.ipynb\" target=\"_parent\"><img src=\"https://colab.research.google.com/assets/colab-badge.svg\" alt=\"Open In Colab\"/></a>"
      ]
    },
    {
      "cell_type": "markdown",
      "metadata": {
        "id": "HIdhT6gdtGK5"
      },
      "source": [
        "# Perceptron OR operator\n",
        "\n"
      ]
    },
    {
      "cell_type": "markdown",
      "metadata": {
        "id": "vtFvQ1gyvHjb"
      },
      "source": [
        "## Inputs, outputs and weights"
      ]
    },
    {
      "cell_type": "code",
      "metadata": {
        "id": "r-Z6A3potBxj"
      },
      "source": [
        "import numpy as np"
      ],
      "execution_count": null,
      "outputs": []
    },
    {
      "cell_type": "code",
      "metadata": {
        "id": "kmI9lnxNvSRK"
      },
      "source": [
        "inputs = np.array([[0,0], [0,1], [1,0], [1,1]])"
      ],
      "execution_count": null,
      "outputs": []
    },
    {
      "cell_type": "code",
      "metadata": {
        "id": "v-Z3PCvPvzzB"
      },
      "source": [
        "outputs = np.array([0, 1, 1, 1])"
      ],
      "execution_count": null,
      "outputs": []
    },
    {
      "cell_type": "code",
      "metadata": {
        "id": "b8d3fvWOwT9r"
      },
      "source": [
        "weights = np.array([0.0, 0.0])"
      ],
      "execution_count": null,
      "outputs": []
    },
    {
      "cell_type": "code",
      "metadata": {
        "id": "wvVBzP7awc1E"
      },
      "source": [
        "learning_rate = 0.1"
      ],
      "execution_count": null,
      "outputs": []
    },
    {
      "cell_type": "markdown",
      "metadata": {
        "id": "ocsTG9x4xBg6"
      },
      "source": [
        "## Step function"
      ]
    },
    {
      "cell_type": "code",
      "metadata": {
        "id": "nkeytQ4FxDLG"
      },
      "source": [
        "def step_function(sum):\n",
        "  if (sum >= 1):\n",
        "    return 1\n",
        "  return 0"
      ],
      "execution_count": null,
      "outputs": []
    },
    {
      "cell_type": "markdown",
      "metadata": {
        "id": "Mafr9eVAxNZl"
      },
      "source": [
        "## Calculate output"
      ]
    },
    {
      "cell_type": "code",
      "metadata": {
        "id": "2pNkHUu7xO_R"
      },
      "source": [
        "def calculate_output(instance):\n",
        "  s = instance.dot(weights)\n",
        "  return step_function(s)"
      ],
      "execution_count": null,
      "outputs": []
    },
    {
      "cell_type": "markdown",
      "metadata": {
        "id": "fb9IBkO6EE0e"
      },
      "source": [
        "## Train"
      ]
    },
    {
      "cell_type": "code",
      "metadata": {
        "id": "aHB5dEjeyjS-"
      },
      "source": [
        "def train():\n",
        "  total_error = 1\n",
        "  while (total_error != 0):\n",
        "    total_error = 0\n",
        "    for i in range(len(outputs)):\n",
        "      prediction = calculate_output(inputs[i])\n",
        "      error = abs(outputs[i] - prediction)\n",
        "      total_error += error\n",
        "      if error > 0:\n",
        "        for j in range(len(weights)):\n",
        "          weights[j] = weights[j] + (learning_rate * inputs[i][j] * error)\n",
        "          print('Weight updated: ' + str(weights[j]))  \n",
        "    print('Total error: ' + str(total_error))"
      ],
      "execution_count": null,
      "outputs": []
    },
    {
      "cell_type": "code",
      "metadata": {
        "id": "9q4zcw3c8MuD",
        "outputId": "4c928ba0-dc4b-4785-a8be-b68cecdada8b",
        "colab": {
          "base_uri": "https://localhost:8080/",
          "height": 857
        }
      },
      "source": [
        "train()"
      ],
      "execution_count": null,
      "outputs": [
        {
          "output_type": "stream",
          "text": [
            "Weight updated: 0.0\n",
            "Weight updated: 0.1\n",
            "Weight updated: 0.1\n",
            "Weight updated: 0.1\n",
            "Weight updated: 0.2\n",
            "Weight updated: 0.2\n",
            "Total error: 3\n",
            "Weight updated: 0.2\n",
            "Weight updated: 0.30000000000000004\n",
            "Weight updated: 0.30000000000000004\n",
            "Weight updated: 0.30000000000000004\n",
            "Weight updated: 0.4\n",
            "Weight updated: 0.4\n",
            "Total error: 3\n",
            "Weight updated: 0.4\n",
            "Weight updated: 0.5\n",
            "Weight updated: 0.5\n",
            "Weight updated: 0.5\n",
            "Total error: 2\n",
            "Weight updated: 0.5\n",
            "Weight updated: 0.6\n",
            "Weight updated: 0.6\n",
            "Weight updated: 0.6\n",
            "Total error: 2\n",
            "Weight updated: 0.6\n",
            "Weight updated: 0.7\n",
            "Weight updated: 0.7\n",
            "Weight updated: 0.7\n",
            "Total error: 2\n",
            "Weight updated: 0.7\n",
            "Weight updated: 0.7999999999999999\n",
            "Weight updated: 0.7999999999999999\n",
            "Weight updated: 0.7999999999999999\n",
            "Total error: 2\n",
            "Weight updated: 0.7999999999999999\n",
            "Weight updated: 0.8999999999999999\n",
            "Weight updated: 0.8999999999999999\n",
            "Weight updated: 0.8999999999999999\n",
            "Total error: 2\n",
            "Weight updated: 0.8999999999999999\n",
            "Weight updated: 0.9999999999999999\n",
            "Weight updated: 0.9999999999999999\n",
            "Weight updated: 0.9999999999999999\n",
            "Total error: 2\n",
            "Weight updated: 0.9999999999999999\n",
            "Weight updated: 1.0999999999999999\n",
            "Weight updated: 1.0999999999999999\n",
            "Weight updated: 1.0999999999999999\n",
            "Total error: 2\n",
            "Total error: 0\n"
          ],
          "name": "stdout"
        }
      ]
    },
    {
      "cell_type": "markdown",
      "metadata": {
        "id": "eyqXVsyxEGk5"
      },
      "source": [
        "## Classification"
      ]
    },
    {
      "cell_type": "code",
      "metadata": {
        "id": "g7P81pYNEaOI",
        "outputId": "a6ee5885-a92a-4672-b499-874913fbf23f",
        "colab": {
          "base_uri": "https://localhost:8080/",
          "height": 34
        }
      },
      "source": [
        "weights"
      ],
      "execution_count": null,
      "outputs": [
        {
          "output_type": "execute_result",
          "data": {
            "text/plain": [
              "array([1.1, 1.1])"
            ]
          },
          "metadata": {
            "tags": []
          },
          "execution_count": 10
        }
      ]
    },
    {
      "cell_type": "code",
      "metadata": {
        "id": "-gH8JieREIG_",
        "outputId": "9b1d5c18-d119-4888-90fa-877504703180",
        "colab": {
          "base_uri": "https://localhost:8080/",
          "height": 34
        }
      },
      "source": [
        "calculate_output(np.array([0, 0]))"
      ],
      "execution_count": null,
      "outputs": [
        {
          "output_type": "execute_result",
          "data": {
            "text/plain": [
              "0"
            ]
          },
          "metadata": {
            "tags": []
          },
          "execution_count": 11
        }
      ]
    },
    {
      "cell_type": "code",
      "metadata": {
        "id": "y2MfbEMBESzV",
        "outputId": "6a52d43b-8ba5-4127-bfa4-c8c25a0bf401",
        "colab": {
          "base_uri": "https://localhost:8080/",
          "height": 34
        }
      },
      "source": [
        "calculate_output(np.array([0, 1]))"
      ],
      "execution_count": null,
      "outputs": [
        {
          "output_type": "execute_result",
          "data": {
            "text/plain": [
              "1"
            ]
          },
          "metadata": {
            "tags": []
          },
          "execution_count": 12
        }
      ]
    },
    {
      "cell_type": "code",
      "metadata": {
        "id": "mE23GsbfEU4B",
        "outputId": "645b21ff-bcbd-42fe-aa99-2d55b20e12ca",
        "colab": {
          "base_uri": "https://localhost:8080/",
          "height": 34
        }
      },
      "source": [
        "calculate_output(np.array([1, 0]))"
      ],
      "execution_count": null,
      "outputs": [
        {
          "output_type": "execute_result",
          "data": {
            "text/plain": [
              "1"
            ]
          },
          "metadata": {
            "tags": []
          },
          "execution_count": 13
        }
      ]
    },
    {
      "cell_type": "code",
      "metadata": {
        "id": "XI3wWnfDEWvE",
        "outputId": "674be07a-4a59-46be-e6e7-9e8da3a1d400",
        "colab": {
          "base_uri": "https://localhost:8080/",
          "height": 34
        }
      },
      "source": [
        "calculate_output(np.array([1, 1]))"
      ],
      "execution_count": null,
      "outputs": [
        {
          "output_type": "execute_result",
          "data": {
            "text/plain": [
              "1"
            ]
          },
          "metadata": {
            "tags": []
          },
          "execution_count": 14
        }
      ]
    }
  ]
}