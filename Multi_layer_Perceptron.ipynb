{
  "nbformat": 4,
  "nbformat_minor": 0,
  "metadata": {
    "colab": {
      "provenance": [],
      "include_colab_link": true
    },
    "kernelspec": {
      "name": "python3",
      "display_name": "Python 3"
    }
  },
  "cells": [
    {
      "cell_type": "markdown",
      "metadata": {
        "id": "view-in-github",
        "colab_type": "text"
      },
      "source": [
        "<a href=\"https://colab.research.google.com/github/sangwooya/DL_/blob/main/Multi_layer_Perceptron.ipynb\" target=\"_parent\"><img src=\"https://colab.research.google.com/assets/colab-badge.svg\" alt=\"Open In Colab\"/></a>"
      ]
    },
    {
      "cell_type": "markdown",
      "metadata": {
        "id": "HIdhT6gdtGK5"
      },
      "source": [
        "# Multi-layer perceptron\n",
        "\n"
      ]
    },
    {
      "cell_type": "markdown",
      "metadata": {
        "id": "vtFvQ1gyvHjb"
      },
      "source": [
        "## Sigmoid function\n",
        "\n",
        "![alt text](https://drive.google.com/uc?id=1TOnW5t6niK8kUCjjv9Nh-cdxmYi_it-F)"
      ]
    },
    {
      "cell_type": "code",
      "metadata": {
        "id": "zkYfoqQUgtI1"
      },
      "source": [
        "import numpy as np"
      ],
      "execution_count": null,
      "outputs": []
    },
    {
      "cell_type": "code",
      "metadata": {
        "id": "AaCJlVPlgxE3"
      },
      "source": [
        "def sigmoid(sum):\n",
        "  return 1 / (1 + np.exp(-sum))"
      ],
      "execution_count": null,
      "outputs": []
    },
    {
      "cell_type": "code",
      "metadata": {
        "id": "vdkuO2JHhRv2",
        "outputId": "daf8a50e-5b75-4cb1-f5eb-f8faf9f78d2e",
        "colab": {
          "base_uri": "https://localhost:8080/",
          "height": 34
        }
      },
      "source": [
        "np.exp(1)"
      ],
      "execution_count": null,
      "outputs": [
        {
          "output_type": "execute_result",
          "data": {
            "text/plain": [
              "2.718281828459045"
            ]
          },
          "metadata": {
            "tags": []
          },
          "execution_count": 3
        }
      ]
    },
    {
      "cell_type": "code",
      "metadata": {
        "id": "fgqoTSK2hk4N",
        "outputId": "fdc43b9a-0eb6-4997-e276-bfe8c431b716",
        "colab": {
          "base_uri": "https://localhost:8080/",
          "height": 34
        }
      },
      "source": [
        "np.exp(2)"
      ],
      "execution_count": null,
      "outputs": [
        {
          "output_type": "execute_result",
          "data": {
            "text/plain": [
              "7.38905609893065"
            ]
          },
          "metadata": {
            "tags": []
          },
          "execution_count": 4
        }
      ]
    },
    {
      "cell_type": "code",
      "metadata": {
        "id": "sM0C1Yn6hqp-",
        "outputId": "025ce55b-4ca1-477a-8dba-ab291526cbf4",
        "colab": {
          "base_uri": "https://localhost:8080/",
          "height": 34
        }
      },
      "source": [
        "2.718281828459045 * 2.718281828459045"
      ],
      "execution_count": null,
      "outputs": [
        {
          "output_type": "execute_result",
          "data": {
            "text/plain": [
              "7.3890560989306495"
            ]
          },
          "metadata": {
            "tags": []
          },
          "execution_count": 5
        }
      ]
    },
    {
      "cell_type": "code",
      "metadata": {
        "id": "Sic3kuOfhunw",
        "outputId": "ecc7723b-099b-4937-c89f-8ab18f914603",
        "colab": {
          "base_uri": "https://localhost:8080/",
          "height": 34
        }
      },
      "source": [
        "np.exp(0)"
      ],
      "execution_count": null,
      "outputs": [
        {
          "output_type": "execute_result",
          "data": {
            "text/plain": [
              "1.0"
            ]
          },
          "metadata": {
            "tags": []
          },
          "execution_count": 6
        }
      ]
    },
    {
      "cell_type": "code",
      "metadata": {
        "id": "bJQ4HKyuhw7N",
        "outputId": "8695f8fe-cba1-47b6-cd46-522aafbd9dc4",
        "colab": {
          "base_uri": "https://localhost:8080/",
          "height": 34
        }
      },
      "source": [
        "np.exp(-1)"
      ],
      "execution_count": null,
      "outputs": [
        {
          "output_type": "execute_result",
          "data": {
            "text/plain": [
              "0.36787944117144233"
            ]
          },
          "metadata": {
            "tags": []
          },
          "execution_count": 7
        }
      ]
    },
    {
      "cell_type": "code",
      "metadata": {
        "id": "prGtnQtnh2JS",
        "outputId": "9f44dc92-60ef-4858-a88a-14742e0abf51",
        "colab": {
          "base_uri": "https://localhost:8080/",
          "height": 34
        }
      },
      "source": [
        "1 / 2.718281828459045"
      ],
      "execution_count": null,
      "outputs": [
        {
          "output_type": "execute_result",
          "data": {
            "text/plain": [
              "0.36787944117144233"
            ]
          },
          "metadata": {
            "tags": []
          },
          "execution_count": 8
        }
      ]
    },
    {
      "cell_type": "code",
      "metadata": {
        "id": "wXI5UeXUiAdA",
        "outputId": "a1f9d4d1-a0e8-43bc-a4f2-ecce6420974c",
        "colab": {
          "base_uri": "https://localhost:8080/",
          "height": 34
        }
      },
      "source": [
        "sigmoid(50)"
      ],
      "execution_count": null,
      "outputs": [
        {
          "output_type": "execute_result",
          "data": {
            "text/plain": [
              "1.0"
            ]
          },
          "metadata": {
            "tags": []
          },
          "execution_count": 9
        }
      ]
    },
    {
      "cell_type": "code",
      "metadata": {
        "id": "wGdF_tHPiNTd",
        "outputId": "ee287e7d-dfc9-4065-c5dd-ca7c8cae5529",
        "colab": {
          "base_uri": "https://localhost:8080/",
          "height": 34
        }
      },
      "source": [
        "sigmoid(0)"
      ],
      "execution_count": null,
      "outputs": [
        {
          "output_type": "execute_result",
          "data": {
            "text/plain": [
              "0.5"
            ]
          },
          "metadata": {
            "tags": []
          },
          "execution_count": 10
        }
      ]
    },
    {
      "cell_type": "code",
      "metadata": {
        "id": "qArvv61viQVu",
        "outputId": "a801fede-3634-43d8-859a-d9116a39ffb1",
        "colab": {
          "base_uri": "https://localhost:8080/",
          "height": 34
        }
      },
      "source": [
        "sigmoid(30.5)"
      ],
      "execution_count": null,
      "outputs": [
        {
          "output_type": "execute_result",
          "data": {
            "text/plain": [
              "0.9999999999999432"
            ]
          },
          "metadata": {
            "tags": []
          },
          "execution_count": 11
        }
      ]
    },
    {
      "cell_type": "code",
      "metadata": {
        "id": "UJLJKyNKifUX",
        "outputId": "9f662ca0-44e6-4c24-fbcb-0bca2a2e9c25",
        "colab": {
          "base_uri": "https://localhost:8080/",
          "height": 34
        }
      },
      "source": [
        "sigmoid(-25.5)"
      ],
      "execution_count": null,
      "outputs": [
        {
          "output_type": "execute_result",
          "data": {
            "text/plain": [
              "8.423463754397692e-12"
            ]
          },
          "metadata": {
            "tags": []
          },
          "execution_count": 12
        }
      ]
    },
    {
      "cell_type": "code",
      "metadata": {
        "id": "GRR0BAkkzGBj",
        "outputId": "3243614d-d009-4eb6-ac90-71abe3b4e151",
        "colab": {
          "base_uri": "https://localhost:8080/",
          "height": 34
        }
      },
      "source": [
        "sigmoid(0.358), sigmoid(-0.577), sigmoid(-0.469)"
      ],
      "execution_count": null,
      "outputs": [
        {
          "output_type": "execute_result",
          "data": {
            "text/plain": [
              "(0.5885562043858291, 0.3596231853677901, 0.38485295749078957)"
            ]
          },
          "metadata": {
            "tags": []
          },
          "execution_count": 13
        }
      ]
    },
    {
      "cell_type": "code",
      "metadata": {
        "id": "JWbPJW3kz2kh",
        "outputId": "106aadd1-d104-4be7-cf46-d10c8347396d",
        "colab": {
          "base_uri": "https://localhost:8080/",
          "height": 34
        }
      },
      "source": [
        "sigmoid(-0.424), sigmoid(-0.740), sigmoid(-0.961)"
      ],
      "execution_count": null,
      "outputs": [
        {
          "output_type": "execute_result",
          "data": {
            "text/plain": [
              "(0.39555998258063735, 0.323004143761477, 0.2766780228949468)"
            ]
          },
          "metadata": {
            "tags": []
          },
          "execution_count": 14
        }
      ]
    },
    {
      "cell_type": "code",
      "metadata": {
        "id": "rzcHvkDN0Z9u",
        "outputId": "1bd5b752-4150-4c23-925d-15268dfd1d7f",
        "colab": {
          "base_uri": "https://localhost:8080/",
          "height": 34
        }
      },
      "source": [
        "sigmoid(-0.066), sigmoid(-1.317), sigmoid(-1.430)"
      ],
      "execution_count": null,
      "outputs": [
        {
          "output_type": "execute_result",
          "data": {
            "text/plain": [
              "(0.4835059868921233, 0.21131784831127748, 0.19309868423321644)"
            ]
          },
          "metadata": {
            "tags": []
          },
          "execution_count": 15
        }
      ]
    },
    {
      "cell_type": "code",
      "metadata": {
        "id": "x6qssJYYARyS",
        "outputId": "b52c4a35-d8dd-4351-b188-201ad2feb46e",
        "colab": {
          "base_uri": "https://localhost:8080/",
          "height": 34
        }
      },
      "source": [
        "sigmoid(-0.381)"
      ],
      "execution_count": null,
      "outputs": [
        {
          "output_type": "execute_result",
          "data": {
            "text/plain": [
              "0.40588573188433286"
            ]
          },
          "metadata": {
            "tags": []
          },
          "execution_count": 16
        }
      ]
    },
    {
      "cell_type": "code",
      "metadata": {
        "id": "QTMD9vB-BJS_",
        "outputId": "45063bed-2646-441e-de5e-40b6dedfc251",
        "colab": {
          "base_uri": "https://localhost:8080/",
          "height": 34
        }
      },
      "source": [
        "sigmoid(-0.274)"
      ],
      "execution_count": null,
      "outputs": [
        {
          "output_type": "execute_result",
          "data": {
            "text/plain": [
              "0.4319253656434116"
            ]
          },
          "metadata": {
            "tags": []
          },
          "execution_count": 17
        }
      ]
    },
    {
      "cell_type": "code",
      "metadata": {
        "id": "zK2NPvEqBemL",
        "outputId": "cb9eadae-35f5-4c61-f37b-20a4d0dbafb1",
        "colab": {
          "base_uri": "https://localhost:8080/",
          "height": 34
        }
      },
      "source": [
        "sigmoid(-0.254)"
      ],
      "execution_count": null,
      "outputs": [
        {
          "output_type": "execute_result",
          "data": {
            "text/plain": [
              "0.43683920889452504"
            ]
          },
          "metadata": {
            "tags": []
          },
          "execution_count": 18
        }
      ]
    },
    {
      "cell_type": "code",
      "metadata": {
        "id": "jUX8Y6azBuFb",
        "outputId": "8c16cf6a-10d1-4df8-bef3-a2f1484b1c07",
        "colab": {
          "base_uri": "https://localhost:8080/",
          "height": 34
        }
      },
      "source": [
        "sigmoid(-0.168)"
      ],
      "execution_count": null,
      "outputs": [
        {
          "output_type": "execute_result",
          "data": {
            "text/plain": [
              "0.4580985059860437"
            ]
          },
          "metadata": {
            "tags": []
          },
          "execution_count": 19
        }
      ]
    },
    {
      "cell_type": "markdown",
      "metadata": {
        "id": "83k8uoJC31vC"
      },
      "source": [
        "## Input layer to hidden layer\n",
        "\n",
        "![alt text](https://drive.google.com/uc?id=1GBajLXOuC8SgxKxf57iTrHm8Lw3MMqzz)"
      ]
    },
    {
      "cell_type": "code",
      "metadata": {
        "id": "db7JMihl37zd",
        "outputId": "6d320cb1-6f6a-44e3-a6ca-52efc4276389",
        "colab": {
          "base_uri": "https://localhost:8080/",
          "height": 34
        }
      },
      "source": [
        "inputs = np.array([[0,0],\n",
        "                   [0,1],\n",
        "                   [1,0],\n",
        "                   [1,1]])\n",
        "inputs.shape"
      ],
      "execution_count": null,
      "outputs": [
        {
          "output_type": "execute_result",
          "data": {
            "text/plain": [
              "(4, 2)"
            ]
          },
          "metadata": {
            "tags": []
          },
          "execution_count": 20
        }
      ]
    },
    {
      "cell_type": "code",
      "metadata": {
        "id": "D0Oj0ZtN4pFt",
        "outputId": "8777739f-c83b-429c-dfe8-44d73cec7279",
        "colab": {
          "base_uri": "https://localhost:8080/",
          "height": 34
        }
      },
      "source": [
        "outputs = np.array([[0],\n",
        "                    [1],\n",
        "                    [1],\n",
        "                    [0]])\n",
        "outputs.shape"
      ],
      "execution_count": null,
      "outputs": [
        {
          "output_type": "execute_result",
          "data": {
            "text/plain": [
              "(4, 1)"
            ]
          },
          "metadata": {
            "tags": []
          },
          "execution_count": 21
        }
      ]
    },
    {
      "cell_type": "code",
      "metadata": {
        "id": "6jzYYKsN5KLW",
        "outputId": "271470ff-2500-45b4-f8ec-d5cff947027e",
        "colab": {
          "base_uri": "https://localhost:8080/",
          "height": 34
        }
      },
      "source": [
        "weights0 = np.array([[-0.424, -0.740, -0.961],\n",
        "                     [0.358, -0.577, -0.469]])\n",
        "weights0.shape"
      ],
      "execution_count": null,
      "outputs": [
        {
          "output_type": "execute_result",
          "data": {
            "text/plain": [
              "(2, 3)"
            ]
          },
          "metadata": {
            "tags": []
          },
          "execution_count": 22
        }
      ]
    },
    {
      "cell_type": "code",
      "metadata": {
        "id": "P8RtKPR956Kf",
        "outputId": "078d4b47-854e-476b-db50-2dd9a1bc6402",
        "colab": {
          "base_uri": "https://localhost:8080/",
          "height": 34
        }
      },
      "source": [
        "weights1 = np.array([[-0.017],\n",
        "                     [-0.893],\n",
        "                     [0.148]])\n",
        "weights1.shape"
      ],
      "execution_count": null,
      "outputs": [
        {
          "output_type": "execute_result",
          "data": {
            "text/plain": [
              "(3, 1)"
            ]
          },
          "metadata": {
            "tags": []
          },
          "execution_count": 23
        }
      ]
    },
    {
      "cell_type": "code",
      "metadata": {
        "id": "0ci_lwsI6Qeh"
      },
      "source": [
        "epochs = 100\n",
        "learning_rate = 0.3"
      ],
      "execution_count": null,
      "outputs": []
    },
    {
      "cell_type": "code",
      "metadata": {
        "id": "Ce08fDkW7ZFn"
      },
      "source": [
        "#for epoch in epochs:\n",
        "  "
      ],
      "execution_count": null,
      "outputs": []
    },
    {
      "cell_type": "code",
      "metadata": {
        "id": "tyIQpenx7oru",
        "outputId": "9242d078-c726-4849-c5c6-e0c1b2ac1f61",
        "colab": {
          "base_uri": "https://localhost:8080/",
          "height": 84
        }
      },
      "source": [
        "input_layer = inputs\n",
        "input_layer"
      ],
      "execution_count": null,
      "outputs": [
        {
          "output_type": "execute_result",
          "data": {
            "text/plain": [
              "array([[0, 0],\n",
              "       [0, 1],\n",
              "       [1, 0],\n",
              "       [1, 1]])"
            ]
          },
          "metadata": {
            "tags": []
          },
          "execution_count": 26
        }
      ]
    },
    {
      "cell_type": "code",
      "metadata": {
        "id": "qfxTeBjD754l",
        "outputId": "89d8dc48-523d-48b6-835c-b3947f8e203d",
        "colab": {
          "base_uri": "https://localhost:8080/",
          "height": 84
        }
      },
      "source": [
        "sum_synapse0 = np.dot(input_layer, weights0)\n",
        "sum_synapse0"
      ],
      "execution_count": null,
      "outputs": [
        {
          "output_type": "execute_result",
          "data": {
            "text/plain": [
              "array([[ 0.   ,  0.   ,  0.   ],\n",
              "       [ 0.358, -0.577, -0.469],\n",
              "       [-0.424, -0.74 , -0.961],\n",
              "       [-0.066, -1.317, -1.43 ]])"
            ]
          },
          "metadata": {
            "tags": []
          },
          "execution_count": 27
        }
      ]
    },
    {
      "cell_type": "code",
      "metadata": {
        "id": "fRc9BH8U9XU_",
        "outputId": "b5ee2f1e-4e93-40e4-b4cf-3973939da78e",
        "colab": {
          "base_uri": "https://localhost:8080/",
          "height": 84
        }
      },
      "source": [
        "hidden_layer = sigmoid(sum_synapse0)\n",
        "hidden_layer"
      ],
      "execution_count": null,
      "outputs": [
        {
          "output_type": "execute_result",
          "data": {
            "text/plain": [
              "array([[0.5       , 0.5       , 0.5       ],\n",
              "       [0.5885562 , 0.35962319, 0.38485296],\n",
              "       [0.39555998, 0.32300414, 0.27667802],\n",
              "       [0.48350599, 0.21131785, 0.19309868]])"
            ]
          },
          "metadata": {
            "tags": []
          },
          "execution_count": 28
        }
      ]
    },
    {
      "cell_type": "code",
      "metadata": {
        "id": "T21MKO2kCqzQ",
        "outputId": "5f68ff0c-6a64-4dec-9bcc-f86a50f82c2b",
        "colab": {
          "base_uri": "https://localhost:8080/",
          "height": 67
        }
      },
      "source": [
        "weights1"
      ],
      "execution_count": null,
      "outputs": [
        {
          "output_type": "execute_result",
          "data": {
            "text/plain": [
              "array([[-0.017],\n",
              "       [-0.893],\n",
              "       [ 0.148]])"
            ]
          },
          "metadata": {
            "tags": []
          },
          "execution_count": 29
        }
      ]
    },
    {
      "cell_type": "code",
      "metadata": {
        "id": "WaCTz2irC4lg",
        "outputId": "5a4720ee-e2d8-42e5-eead-d00a833aa641",
        "colab": {
          "base_uri": "https://localhost:8080/",
          "height": 84
        }
      },
      "source": [
        "sum_synapse1 = np.dot(hidden_layer, weights1)\n",
        "sum_synapse1"
      ],
      "execution_count": null,
      "outputs": [
        {
          "output_type": "execute_result",
          "data": {
            "text/plain": [
              "array([[-0.381     ],\n",
              "       [-0.27419072],\n",
              "       [-0.25421887],\n",
              "       [-0.16834784]])"
            ]
          },
          "metadata": {
            "tags": []
          },
          "execution_count": 30
        }
      ]
    },
    {
      "cell_type": "code",
      "metadata": {
        "id": "gksRDR_vD71I",
        "outputId": "0db926bf-266c-48ac-80a0-101037d2d178",
        "colab": {
          "base_uri": "https://localhost:8080/",
          "height": 84
        }
      },
      "source": [
        "output_layer = sigmoid(sum_synapse1)\n",
        "output_layer"
      ],
      "execution_count": null,
      "outputs": [
        {
          "output_type": "execute_result",
          "data": {
            "text/plain": [
              "array([[0.40588573],\n",
              "       [0.43187857],\n",
              "       [0.43678536],\n",
              "       [0.45801216]])"
            ]
          },
          "metadata": {
            "tags": []
          },
          "execution_count": 31
        }
      ]
    },
    {
      "cell_type": "markdown",
      "metadata": {
        "id": "hF60sMwvsjV1"
      },
      "source": [
        "![alt text](https://drive.google.com/uc?id=1tyaDx4fNdXIS9EJTcKO9hP2P03GCA0Fj)"
      ]
    },
    {
      "cell_type": "code",
      "metadata": {
        "id": "iSxSywO7s7LF",
        "outputId": "44c23112-4e20-4928-87f3-ad398a8eb31d",
        "colab": {
          "base_uri": "https://localhost:8080/",
          "height": 84
        }
      },
      "source": [
        "outputs"
      ],
      "execution_count": null,
      "outputs": [
        {
          "output_type": "execute_result",
          "data": {
            "text/plain": [
              "array([[0],\n",
              "       [1],\n",
              "       [1],\n",
              "       [0]])"
            ]
          },
          "metadata": {
            "tags": []
          },
          "execution_count": 32
        }
      ]
    },
    {
      "cell_type": "code",
      "metadata": {
        "id": "Q1W_6GnMtCN0",
        "outputId": "49baaee2-6c7b-47e4-df11-ce1a0ca34353",
        "colab": {
          "base_uri": "https://localhost:8080/",
          "height": 84
        }
      },
      "source": [
        "output_layer"
      ],
      "execution_count": null,
      "outputs": [
        {
          "output_type": "execute_result",
          "data": {
            "text/plain": [
              "array([[0.40588573],\n",
              "       [0.43187857],\n",
              "       [0.43678536],\n",
              "       [0.45801216]])"
            ]
          },
          "metadata": {
            "tags": []
          },
          "execution_count": 33
        }
      ]
    },
    {
      "cell_type": "code",
      "metadata": {
        "id": "r_0s-gwYtKeN",
        "outputId": "2c4a3c73-1c15-4bab-a98c-0e9f07e8fa14",
        "colab": {
          "base_uri": "https://localhost:8080/",
          "height": 84
        }
      },
      "source": [
        "error_output_layer = outputs - output_layer\n",
        "error_output_layer"
      ],
      "execution_count": null,
      "outputs": [
        {
          "output_type": "execute_result",
          "data": {
            "text/plain": [
              "array([[-0.40588573],\n",
              "       [ 0.56812143],\n",
              "       [ 0.56321464],\n",
              "       [-0.45801216]])"
            ]
          },
          "metadata": {
            "tags": []
          },
          "execution_count": 34
        }
      ]
    },
    {
      "cell_type": "code",
      "metadata": {
        "id": "7jYGeuzrtYls",
        "outputId": "dd43a779-3a19-46e5-ade7-bc6675a533c4",
        "colab": {
          "base_uri": "https://localhost:8080/",
          "height": 34
        }
      },
      "source": [
        "average = np.mean(abs(error_output_layer))\n",
        "average"
      ],
      "execution_count": null,
      "outputs": [
        {
          "output_type": "execute_result",
          "data": {
            "text/plain": [
              "0.49880848923713045"
            ]
          },
          "metadata": {
            "tags": []
          },
          "execution_count": 35
        }
      ]
    },
    {
      "cell_type": "markdown",
      "metadata": {
        "id": "hBs2KrsI3Ga0"
      },
      "source": [
        "![alt text](https://drive.google.com/uc?id=1TS68lw8fRrZptGsOZ4iBw4fw0mh1_yH7)"
      ]
    },
    {
      "cell_type": "code",
      "metadata": {
        "id": "AtZS0MfI3j1a"
      },
      "source": [
        "def sigmoid_derivative(sigmoid):\n",
        "  return sigmoid * (1 - sigmoid)"
      ],
      "execution_count": null,
      "outputs": []
    },
    {
      "cell_type": "code",
      "metadata": {
        "id": "GblUtbO83xga",
        "outputId": "13456152-6a6d-475c-a724-0e1a39062658",
        "colab": {
          "base_uri": "https://localhost:8080/",
          "height": 34
        }
      },
      "source": [
        "s = sigmoid(0.5)\n",
        "s"
      ],
      "execution_count": null,
      "outputs": [
        {
          "output_type": "execute_result",
          "data": {
            "text/plain": [
              "0.6224593312018546"
            ]
          },
          "metadata": {
            "tags": []
          },
          "execution_count": 37
        }
      ]
    },
    {
      "cell_type": "code",
      "metadata": {
        "id": "EgjqHIKx3-AI",
        "outputId": "b7bf8e3c-7731-4620-a8d4-d5448df6b48b",
        "colab": {
          "base_uri": "https://localhost:8080/",
          "height": 34
        }
      },
      "source": [
        "d = sigmoid_derivative(s)\n",
        "d"
      ],
      "execution_count": null,
      "outputs": [
        {
          "output_type": "execute_result",
          "data": {
            "text/plain": [
              "0.2350037122015945"
            ]
          },
          "metadata": {
            "tags": []
          },
          "execution_count": 38
        }
      ]
    },
    {
      "cell_type": "code",
      "metadata": {
        "id": "_f9a4FHHlADQ",
        "outputId": "f807eea0-fab0-403b-973e-9f23b2976482",
        "colab": {
          "base_uri": "https://localhost:8080/",
          "height": 34
        }
      },
      "source": [
        "sigmoid_derivative(0.405)"
      ],
      "execution_count": null,
      "outputs": [
        {
          "output_type": "execute_result",
          "data": {
            "text/plain": [
              "0.240975"
            ]
          },
          "metadata": {
            "tags": []
          },
          "execution_count": 39
        }
      ]
    },
    {
      "cell_type": "code",
      "metadata": {
        "id": "N_9sWtCmqL3H",
        "outputId": "e10513ba-ccfb-4208-e997-0e3721ef004a",
        "colab": {
          "base_uri": "https://localhost:8080/",
          "height": 34
        }
      },
      "source": [
        "sigmoid_derivative(0.589)"
      ],
      "execution_count": null,
      "outputs": [
        {
          "output_type": "execute_result",
          "data": {
            "text/plain": [
              "0.24207900000000002"
            ]
          },
          "metadata": {
            "tags": []
          },
          "execution_count": 40
        }
      ]
    },
    {
      "cell_type": "markdown",
      "metadata": {
        "id": "AngZZcAvnIev"
      },
      "source": [
        "![alt text](https://drive.google.com/uc?id=1onElTzv80-S7b2GqzP9XXENNTxYZKtbR)"
      ]
    },
    {
      "cell_type": "code",
      "metadata": {
        "id": "eXqM4_hlnfVb",
        "outputId": "4734dcfa-b286-4855-faf9-64231e8539cd",
        "colab": {
          "base_uri": "https://localhost:8080/",
          "height": 84
        }
      },
      "source": [
        "output_layer"
      ],
      "execution_count": null,
      "outputs": [
        {
          "output_type": "execute_result",
          "data": {
            "text/plain": [
              "array([[0.40588573],\n",
              "       [0.43187857],\n",
              "       [0.43678536],\n",
              "       [0.45801216]])"
            ]
          },
          "metadata": {
            "tags": []
          },
          "execution_count": 41
        }
      ]
    },
    {
      "cell_type": "code",
      "metadata": {
        "id": "_m-_Yaxbn3VI",
        "outputId": "6dd40ff2-0380-4900-9d46-c8b5e519d49b",
        "colab": {
          "base_uri": "https://localhost:8080/",
          "height": 84
        }
      },
      "source": [
        "derivative_output = sigmoid_derivative(output_layer)\n",
        "derivative_output"
      ],
      "execution_count": null,
      "outputs": [
        {
          "output_type": "execute_result",
          "data": {
            "text/plain": [
              "array([[0.2411425 ],\n",
              "       [0.24535947],\n",
              "       [0.24600391],\n",
              "       [0.24823702]])"
            ]
          },
          "metadata": {
            "tags": []
          },
          "execution_count": 42
        }
      ]
    },
    {
      "cell_type": "code",
      "metadata": {
        "id": "IfD6dsroonEz",
        "outputId": "2252d065-f593-4f7b-bab9-b5ac80b8804a",
        "colab": {
          "base_uri": "https://localhost:8080/",
          "height": 84
        }
      },
      "source": [
        "error_output_layer"
      ],
      "execution_count": null,
      "outputs": [
        {
          "output_type": "execute_result",
          "data": {
            "text/plain": [
              "array([[-0.40588573],\n",
              "       [ 0.56812143],\n",
              "       [ 0.56321464],\n",
              "       [-0.45801216]])"
            ]
          },
          "metadata": {
            "tags": []
          },
          "execution_count": 43
        }
      ]
    },
    {
      "cell_type": "code",
      "metadata": {
        "id": "UaIY4_8xovJd",
        "outputId": "4c91ae4f-6c6b-4a59-f4fd-c053743926d9",
        "colab": {
          "base_uri": "https://localhost:8080/",
          "height": 84
        }
      },
      "source": [
        "delta_output = error_output_layer * derivative_output\n",
        "delta_output"
      ],
      "execution_count": null,
      "outputs": [
        {
          "output_type": "execute_result",
          "data": {
            "text/plain": [
              "array([[-0.0978763 ],\n",
              "       [ 0.13939397],\n",
              "       [ 0.138553  ],\n",
              "       [-0.11369557]])"
            ]
          },
          "metadata": {
            "tags": []
          },
          "execution_count": 44
        }
      ]
    },
    {
      "cell_type": "markdown",
      "metadata": {
        "id": "wRO2pzP0szvJ"
      },
      "source": [
        "![alt text](https://drive.google.com/uc?id=1KwX3K5FUunqnneS3Z1zAreMmENdVfnig)"
      ]
    },
    {
      "cell_type": "code",
      "metadata": {
        "id": "XrRbWobYtVjW",
        "outputId": "5ce58782-7d4c-4cdb-c345-574a07ed28da",
        "colab": {
          "base_uri": "https://localhost:8080/",
          "height": 84
        }
      },
      "source": [
        "delta_output"
      ],
      "execution_count": null,
      "outputs": [
        {
          "output_type": "execute_result",
          "data": {
            "text/plain": [
              "array([[-0.0978763 ],\n",
              "       [ 0.13939397],\n",
              "       [ 0.138553  ],\n",
              "       [-0.11369557]])"
            ]
          },
          "metadata": {
            "tags": []
          },
          "execution_count": 45
        }
      ]
    },
    {
      "cell_type": "code",
      "metadata": {
        "id": "5gCiEa1qtgtx",
        "outputId": "4a6d0388-c360-4e5b-8aa0-32e55e28e426",
        "colab": {
          "base_uri": "https://localhost:8080/",
          "height": 67
        }
      },
      "source": [
        "weights1"
      ],
      "execution_count": null,
      "outputs": [
        {
          "output_type": "execute_result",
          "data": {
            "text/plain": [
              "array([[-0.017],\n",
              "       [-0.893],\n",
              "       [ 0.148]])"
            ]
          },
          "metadata": {
            "tags": []
          },
          "execution_count": 46
        }
      ]
    },
    {
      "cell_type": "code",
      "metadata": {
        "id": "JJA0niWstlF6",
        "outputId": "d2435bc7-0178-4321-c033-2a358bd7080b",
        "colab": {
          "base_uri": "https://localhost:8080/",
          "height": 162
        }
      },
      "source": [
        "delta_output_x_weight = delta_output.dot(weights1)"
      ],
      "execution_count": null,
      "outputs": [
        {
          "output_type": "error",
          "ename": "ValueError",
          "evalue": "ignored",
          "traceback": [
            "\u001b[0;31m---------------------------------------------------------------------------\u001b[0m",
            "\u001b[0;31mValueError\u001b[0m                                Traceback (most recent call last)",
            "\u001b[0;32m<ipython-input-47-099b6c19cd6d>\u001b[0m in \u001b[0;36m<module>\u001b[0;34m()\u001b[0m\n\u001b[0;32m----> 1\u001b[0;31m \u001b[0mdelta_output_x_weight\u001b[0m \u001b[0;34m=\u001b[0m \u001b[0mdelta_output\u001b[0m\u001b[0;34m.\u001b[0m\u001b[0mdot\u001b[0m\u001b[0;34m(\u001b[0m\u001b[0mweights1\u001b[0m\u001b[0;34m)\u001b[0m\u001b[0;34m\u001b[0m\u001b[0;34m\u001b[0m\u001b[0m\n\u001b[0m",
            "\u001b[0;31mValueError\u001b[0m: shapes (4,1) and (3,1) not aligned: 1 (dim 1) != 3 (dim 0)"
          ]
        }
      ]
    },
    {
      "cell_type": "code",
      "metadata": {
        "id": "6WPPtImduGsd",
        "outputId": "5f5fefb0-5001-49d7-cf37-688e26ed9327",
        "colab": {
          "base_uri": "https://localhost:8080/",
          "height": 34
        }
      },
      "source": [
        "weights1T = weights1.T\n",
        "weights1T"
      ],
      "execution_count": null,
      "outputs": [
        {
          "output_type": "execute_result",
          "data": {
            "text/plain": [
              "array([[-0.017, -0.893,  0.148]])"
            ]
          },
          "metadata": {
            "tags": []
          },
          "execution_count": 48
        }
      ]
    },
    {
      "cell_type": "code",
      "metadata": {
        "id": "19A3G9VZuWGl",
        "outputId": "3a991dfe-fb81-4759-bbc7-f6b843e0a8c0",
        "colab": {
          "base_uri": "https://localhost:8080/",
          "height": 34
        }
      },
      "source": [
        "weights1.shape, weights1T.shape"
      ],
      "execution_count": null,
      "outputs": [
        {
          "output_type": "execute_result",
          "data": {
            "text/plain": [
              "((3, 1), (1, 3))"
            ]
          },
          "metadata": {
            "tags": []
          },
          "execution_count": 49
        }
      ]
    },
    {
      "cell_type": "code",
      "metadata": {
        "id": "rWGOcyVsukSe",
        "outputId": "8fbdd57b-afe4-4664-83da-8252e19149e3",
        "colab": {
          "base_uri": "https://localhost:8080/",
          "height": 84
        }
      },
      "source": [
        "delta_output"
      ],
      "execution_count": null,
      "outputs": [
        {
          "output_type": "execute_result",
          "data": {
            "text/plain": [
              "array([[-0.0978763 ],\n",
              "       [ 0.13939397],\n",
              "       [ 0.138553  ],\n",
              "       [-0.11369557]])"
            ]
          },
          "metadata": {
            "tags": []
          },
          "execution_count": 50
        }
      ]
    },
    {
      "cell_type": "code",
      "metadata": {
        "id": "jesEAXXUvN20",
        "outputId": "584ec56c-b87c-40e4-8d5c-8d51a025f816",
        "colab": {
          "base_uri": "https://localhost:8080/",
          "height": 84
        }
      },
      "source": [
        "delta_output_x_weight = delta_output.dot(weights1T)\n",
        "delta_output_x_weight"
      ],
      "execution_count": null,
      "outputs": [
        {
          "output_type": "execute_result",
          "data": {
            "text/plain": [
              "array([[ 0.0016639 ,  0.08740354, -0.01448569],\n",
              "       [-0.0023697 , -0.12447882,  0.02063031],\n",
              "       [-0.0023554 , -0.12372783,  0.02050584],\n",
              "       [ 0.00193282,  0.10153015, -0.01682694]])"
            ]
          },
          "metadata": {
            "tags": []
          },
          "execution_count": 51
        }
      ]
    },
    {
      "cell_type": "code",
      "metadata": {
        "id": "g9R3dVhRvygt",
        "outputId": "af3ba5c6-89ae-437c-c0bc-06b4efab37cb",
        "colab": {
          "base_uri": "https://localhost:8080/",
          "height": 84
        }
      },
      "source": [
        "hidden_layer"
      ],
      "execution_count": null,
      "outputs": [
        {
          "output_type": "execute_result",
          "data": {
            "text/plain": [
              "array([[0.5       , 0.5       , 0.5       ],\n",
              "       [0.5885562 , 0.35962319, 0.38485296],\n",
              "       [0.39555998, 0.32300414, 0.27667802],\n",
              "       [0.48350599, 0.21131785, 0.19309868]])"
            ]
          },
          "metadata": {
            "tags": []
          },
          "execution_count": 52
        }
      ]
    },
    {
      "cell_type": "code",
      "metadata": {
        "id": "Q5dlqmG-wC-w",
        "outputId": "77f8bada-7f7b-445f-b3b3-0adbe6945233",
        "colab": {
          "base_uri": "https://localhost:8080/",
          "height": 84
        }
      },
      "source": [
        "delta_hidden_layer = delta_output_x_weight * sigmoid_derivative(hidden_layer)\n",
        "delta_hidden_layer"
      ],
      "execution_count": null,
      "outputs": [
        {
          "output_type": "execute_result",
          "data": {
            "text/plain": [
              "array([[ 0.00041597,  0.02185088, -0.00362142],\n",
              "       [-0.00057384, -0.02866677,  0.00488404],\n",
              "       [-0.00056316, -0.02705587,  0.00410378],\n",
              "       [ 0.00048268,  0.01692128, -0.00262183]])"
            ]
          },
          "metadata": {
            "tags": []
          },
          "execution_count": 53
        }
      ]
    },
    {
      "cell_type": "markdown",
      "metadata": {
        "id": "rO4zZx74CeY_"
      },
      "source": [
        "![alt text](https://drive.google.com/uc?id=15LCxQTbvGr9eNwTjgHmMbBr1oBun51yr)"
      ]
    },
    {
      "cell_type": "code",
      "metadata": {
        "id": "yJfFSa9AC49N",
        "outputId": "80767a03-b7e1-4587-a443-515dd80ae049",
        "colab": {
          "base_uri": "https://localhost:8080/",
          "height": 84
        }
      },
      "source": [
        "hidden_layer"
      ],
      "execution_count": null,
      "outputs": [
        {
          "output_type": "execute_result",
          "data": {
            "text/plain": [
              "array([[0.5       , 0.5       , 0.5       ],\n",
              "       [0.5885562 , 0.35962319, 0.38485296],\n",
              "       [0.39555998, 0.32300414, 0.27667802],\n",
              "       [0.48350599, 0.21131785, 0.19309868]])"
            ]
          },
          "metadata": {
            "tags": []
          },
          "execution_count": 54
        }
      ]
    },
    {
      "cell_type": "code",
      "metadata": {
        "id": "whgH7jZ0DV7n",
        "outputId": "577bc83e-a378-452f-cc0e-6fb81e354358",
        "colab": {
          "base_uri": "https://localhost:8080/",
          "height": 84
        }
      },
      "source": [
        "delta_output"
      ],
      "execution_count": null,
      "outputs": [
        {
          "output_type": "execute_result",
          "data": {
            "text/plain": [
              "array([[-0.0978763 ],\n",
              "       [ 0.13939397],\n",
              "       [ 0.138553  ],\n",
              "       [-0.11369557]])"
            ]
          },
          "metadata": {
            "tags": []
          },
          "execution_count": 55
        }
      ]
    },
    {
      "cell_type": "code",
      "metadata": {
        "id": "j0ELsIGPDvpD",
        "outputId": "f96a72f0-3de7-45c6-a9b7-158604d4252d",
        "colab": {
          "base_uri": "https://localhost:8080/",
          "height": 67
        }
      },
      "source": [
        "hidden_layerT = hidden_layer.T\n",
        "hidden_layerT"
      ],
      "execution_count": null,
      "outputs": [
        {
          "output_type": "execute_result",
          "data": {
            "text/plain": [
              "array([[0.5       , 0.5885562 , 0.39555998, 0.48350599],\n",
              "       [0.5       , 0.35962319, 0.32300414, 0.21131785],\n",
              "       [0.5       , 0.38485296, 0.27667802, 0.19309868]])"
            ]
          },
          "metadata": {
            "tags": []
          },
          "execution_count": 56
        }
      ]
    },
    {
      "cell_type": "code",
      "metadata": {
        "id": "hBZmcuxLEHNl",
        "outputId": "5f3389c8-c93c-404a-a408-2be89c799f2a",
        "colab": {
          "base_uri": "https://localhost:8080/",
          "height": 67
        }
      },
      "source": [
        "input_x_delta1 = hidden_layerT.dot(delta_output)\n",
        "input_x_delta1"
      ],
      "execution_count": null,
      "outputs": [
        {
          "output_type": "execute_result",
          "data": {
            "text/plain": [
              "array([[0.03293657],\n",
              "       [0.02191844],\n",
              "       [0.02108814]])"
            ]
          },
          "metadata": {
            "tags": []
          },
          "execution_count": 57
        }
      ]
    },
    {
      "cell_type": "code",
      "metadata": {
        "id": "C5UIM_0TE8ef",
        "outputId": "b9ea72ad-cee2-4ff6-e9a8-1e6a8bdb525f",
        "colab": {
          "base_uri": "https://localhost:8080/",
          "height": 67
        }
      },
      "source": [
        "weights1 = weights1 + (input_x_delta1 * learning_rate)\n",
        "weights1"
      ],
      "execution_count": null,
      "outputs": [
        {
          "output_type": "execute_result",
          "data": {
            "text/plain": [
              "array([[-0.00711903],\n",
              "       [-0.88642447],\n",
              "       [ 0.15432644]])"
            ]
          },
          "metadata": {
            "tags": []
          },
          "execution_count": 61
        }
      ]
    },
    {
      "cell_type": "markdown",
      "metadata": {
        "id": "jHnVdZZqPGgs"
      },
      "source": [
        "![alt text](https://drive.google.com/uc?id=116y4hCuK1_ek8RcyW5t8t6tZLGsk_D6x)"
      ]
    },
    {
      "cell_type": "code",
      "metadata": {
        "id": "w6zVeLKJPl69",
        "outputId": "ccbf307f-59d0-4adb-e2da-c3b397505cfe",
        "colab": {
          "base_uri": "https://localhost:8080/",
          "height": 84
        }
      },
      "source": [
        "input_layer"
      ],
      "execution_count": null,
      "outputs": [
        {
          "output_type": "execute_result",
          "data": {
            "text/plain": [
              "array([[0, 0],\n",
              "       [0, 1],\n",
              "       [1, 0],\n",
              "       [1, 1]])"
            ]
          },
          "metadata": {
            "tags": []
          },
          "execution_count": 62
        }
      ]
    },
    {
      "cell_type": "code",
      "metadata": {
        "id": "pS1zLgRKPtgV",
        "outputId": "241cff09-d794-4561-c115-305ac1fbc84f",
        "colab": {
          "base_uri": "https://localhost:8080/",
          "height": 84
        }
      },
      "source": [
        "delta_hidden_layer"
      ],
      "execution_count": null,
      "outputs": [
        {
          "output_type": "execute_result",
          "data": {
            "text/plain": [
              "array([[ 0.00041597,  0.02185088, -0.00362142],\n",
              "       [-0.00057384, -0.02866677,  0.00488404],\n",
              "       [-0.00056316, -0.02705587,  0.00410378],\n",
              "       [ 0.00048268,  0.01692128, -0.00262183]])"
            ]
          },
          "metadata": {
            "tags": []
          },
          "execution_count": 63
        }
      ]
    },
    {
      "cell_type": "code",
      "metadata": {
        "id": "e9hMYchNP15c",
        "outputId": "04476ed9-e554-47d2-d02d-87cf233ec668",
        "colab": {
          "base_uri": "https://localhost:8080/",
          "height": 50
        }
      },
      "source": [
        "input_layerT = input_layer.T\n",
        "input_layerT"
      ],
      "execution_count": null,
      "outputs": [
        {
          "output_type": "execute_result",
          "data": {
            "text/plain": [
              "array([[0, 0, 1, 1],\n",
              "       [0, 1, 0, 1]])"
            ]
          },
          "metadata": {
            "tags": []
          },
          "execution_count": 64
        }
      ]
    },
    {
      "cell_type": "code",
      "metadata": {
        "id": "k_b4EvgvQROn",
        "outputId": "358450f2-8a35-4d94-8198-6c09dab3eb79",
        "colab": {
          "base_uri": "https://localhost:8080/",
          "height": 50
        }
      },
      "source": [
        "input_x_delta0 = input_layerT.dot(delta_hidden_layer)\n",
        "input_x_delta0"
      ],
      "execution_count": null,
      "outputs": [
        {
          "output_type": "execute_result",
          "data": {
            "text/plain": [
              "array([[-8.04778516e-05, -1.01345901e-02,  1.48194623e-03],\n",
              "       [-9.11603819e-05, -1.17454886e-02,  2.26221011e-03]])"
            ]
          },
          "metadata": {
            "tags": []
          },
          "execution_count": 65
        }
      ]
    },
    {
      "cell_type": "code",
      "metadata": {
        "id": "mAdJd-rsQjwu",
        "outputId": "e420ac4f-f5e8-4881-cb25-4df102d2d0e5",
        "colab": {
          "base_uri": "https://localhost:8080/",
          "height": 50
        }
      },
      "source": [
        "weights0 = weights0 + (input_x_delta0 * learning_rate)\n",
        "weights0"
      ],
      "execution_count": null,
      "outputs": [
        {
          "output_type": "execute_result",
          "data": {
            "text/plain": [
              "array([[-0.42402414, -0.74304038, -0.96055542],\n",
              "       [ 0.35797265, -0.58052365, -0.46832134]])"
            ]
          },
          "metadata": {
            "tags": []
          },
          "execution_count": 66
        }
      ]
    },
    {
      "cell_type": "markdown",
      "metadata": {
        "id": "FNaPGxXLFE1G"
      },
      "source": [
        "## Complete neural network"
      ]
    },
    {
      "cell_type": "code",
      "metadata": {
        "id": "024OVKv3FIuI"
      },
      "source": [
        "import numpy as np\n",
        "\n",
        "def sigmoid(sum):\n",
        "  return 1 / (1 + np.exp(-sum))\n",
        "\n",
        "def sigmoid_derivative(sigmoid):\n",
        "  return sigmoid * (1 - sigmoid)\n",
        "\n",
        "inputs = np.array([[0,0], \n",
        "                   [0,1], \n",
        "                   [1,0], \n",
        "                   [1,1]])\n",
        "\n",
        "outputs = np.array([[0],\n",
        "                    [1],\n",
        "                    [1],\n",
        "                    [0]])"
      ],
      "execution_count": null,
      "outputs": []
    },
    {
      "cell_type": "code",
      "metadata": {
        "id": "Q2cqYVaIFMuT"
      },
      "source": [
        "#weights0 = np.array([[-0.424, -0.740, -0.961],\n",
        "#                     [0.358, -0.577, -0.469]])\n",
        "\n",
        "#weights1 = np.array([[-0.017],\n",
        "#                     [-0.893],\n",
        "#                     [0.148]])"
      ],
      "execution_count": null,
      "outputs": []
    },
    {
      "cell_type": "code",
      "metadata": {
        "id": "6xKSX4pPPKpZ"
      },
      "source": [
        "weights0 = 2 * np.random.random((2, 3)) - 1\n",
        "weights1 = 2 * np.random.random((3, 1)) - 1"
      ],
      "execution_count": null,
      "outputs": []
    },
    {
      "cell_type": "code",
      "metadata": {
        "id": "POOIY5RyFUyY",
        "outputId": "4e164b08-9012-4839-b7d0-357571d664b4",
        "colab": {
          "base_uri": "https://localhost:8080/",
          "height": 185
        }
      },
      "source": [
        "epochs = 100000\n",
        "learning_rate = 0.6\n",
        "error = []\n",
        "\n",
        "for epoch in range(epochs):\n",
        "  input_layer = inputs\n",
        "  sum_synapse0 = np.dot(input_layer, weights0)\n",
        "  hidden_layer = sigmoid(sum_synapse0)\n",
        "\n",
        "  sum_synapse1 = np.dot(hidden_layer, weights1)\n",
        "  output_layer = sigmoid(sum_synapse1)\n",
        "\n",
        "  error_output_layer = outputs - output_layer\n",
        "  average = np.mean(abs(error_output_layer))\n",
        "  if epoch % 10000 == 0:\n",
        "    print('Epoch: ' + str(epoch + 1) + ' Error: ' + str(average))\n",
        "    error.append(average)\n",
        "  \n",
        "  derivative_output = sigmoid_derivative(output_layer)\n",
        "  delta_output = error_output_layer * derivative_output\n",
        "  \n",
        "  weights1T = weights1.T\n",
        "  delta_output_weight = delta_output.dot(weights1T)\n",
        "  delta_hidden_layer = delta_output_weight * sigmoid_derivative(hidden_layer)\n",
        "  \n",
        "  hidden_layerT = hidden_layer.T\n",
        "  input_x_delta1 = hidden_layerT.dot(delta_output)\n",
        "  weights1 = weights1 + (input_x_delta1 * learning_rate)\n",
        "  \n",
        "  input_layerT = input_layer.T\n",
        "  input_x_delta0 = input_layerT.dot(delta_hidden_layer)\n",
        "  weights0 = weights0 + (input_x_delta0 * learning_rate)"
      ],
      "execution_count": null,
      "outputs": [
        {
          "output_type": "stream",
          "text": [
            "Epoch: 1 Error: 0.4997930750855891\n",
            "Epoch: 10001 Error: 0.14502886486618013\n",
            "Epoch: 20001 Error: 0.1385391833825686\n",
            "Epoch: 30001 Error: 0.1359217310443992\n",
            "Epoch: 40001 Error: 0.1349506022403576\n",
            "Epoch: 50001 Error: 0.046291569605893715\n",
            "Epoch: 60001 Error: 0.03261300088976172\n",
            "Epoch: 70001 Error: 0.026516726933623096\n",
            "Epoch: 80001 Error: 0.02288748433692664\n",
            "Epoch: 90001 Error: 0.020416844706173585\n"
          ],
          "name": "stdout"
        }
      ]
    },
    {
      "cell_type": "code",
      "metadata": {
        "id": "l3xJxld1I-PH",
        "outputId": "b7a02ee6-2caa-4aa1-d30c-07a60a496be1",
        "colab": {
          "base_uri": "https://localhost:8080/",
          "height": 34
        }
      },
      "source": [
        "1 - 0.020416844706173585"
      ],
      "execution_count": null,
      "outputs": [
        {
          "output_type": "execute_result",
          "data": {
            "text/plain": [
              "0.9795831552938264"
            ]
          },
          "metadata": {
            "tags": []
          },
          "execution_count": 52
        }
      ]
    },
    {
      "cell_type": "code",
      "metadata": {
        "id": "0SEA-QTSJN2T",
        "outputId": "a5365f0e-3e13-4fb3-e12a-bb665ea05570",
        "colab": {
          "base_uri": "https://localhost:8080/"
        }
      },
      "source": [
        "import matplotlib.pyplot as plt\n",
        "plt.xlabel('Epochs')\n",
        "plt.ylabel('Error')\n",
        "plt.plot(error)"
      ],
      "execution_count": null,
      "outputs": [
        {
          "output_type": "execute_result",
          "data": {
            "text/plain": [
              "[<matplotlib.lines.Line2D at 0x7f89bfb84358>]"
            ]
          },
          "metadata": {
            "tags": []
          },
          "execution_count": 53
        },
        {
          "output_type": "display_data",
          "data": {
            "image/png": "[encoded data removed]",
            "text/plain": [
              "<Figure size 432x288 with 1 Axes>"
            ]
          },
          "metadata": {
            "tags": [],
            "needs_background": "light"
          }
        }
      ]
    },
    {
      "cell_type": "code",
      "metadata": {
        "id": "MRWioikVKcD4",
        "outputId": "f1f57653-6be0-4d65-b2da-422335b055dd",
        "colab": {
          "base_uri": "https://localhost:8080/",
          "height": 84
        }
      },
      "source": [
        "outputs"
      ],
      "execution_count": null,
      "outputs": [
        {
          "output_type": "execute_result",
          "data": {
            "text/plain": [
              "array([[0],\n",
              "       [1],\n",
              "       [1],\n",
              "       [0]])"
            ]
          },
          "metadata": {
            "tags": []
          },
          "execution_count": 19
        }
      ]
    },
    {
      "cell_type": "code",
      "metadata": {
        "id": "SduchprxKhgy",
        "outputId": "91e09a20-c021-4e34-ccbe-2a38b88b79c4",
        "colab": {
          "base_uri": "https://localhost:8080/",
          "height": 84
        }
      },
      "source": [
        "output_layer"
      ],
      "execution_count": null,
      "outputs": [
        {
          "output_type": "execute_result",
          "data": {
            "text/plain": [
              "array([[0.02011642],\n",
              "       [0.98417271],\n",
              "       [0.98417136],\n",
              "       [0.0221304 ]])"
            ]
          },
          "metadata": {
            "tags": []
          },
          "execution_count": 20
        }
      ]
    },
    {
      "cell_type": "code",
      "metadata": {
        "id": "GRHu5ewULSk_",
        "outputId": "b37b1a80-e7f4-4062-febb-49422098b976",
        "colab": {
          "base_uri": "https://localhost:8080/",
          "height": 50
        }
      },
      "source": [
        "weights0"
      ],
      "execution_count": null,
      "outputs": [
        {
          "output_type": "execute_result",
          "data": {
            "text/plain": [
              "array([[-12.80478084,  -1.03435762,   5.56385967],\n",
              "       [  5.56546944,  -1.03399235, -12.79788572]])"
            ]
          },
          "metadata": {
            "tags": []
          },
          "execution_count": 21
        }
      ]
    },
    {
      "cell_type": "code",
      "metadata": {
        "id": "4LG32bI4LU3z",
        "outputId": "51f5c3a3-e466-46bc-b06a-b9edeac07713",
        "colab": {
          "base_uri": "https://localhost:8080/",
          "height": 67
        }
      },
      "source": [
        "weights1"
      ],
      "execution_count": null,
      "outputs": [
        {
          "output_type": "execute_result",
          "data": {
            "text/plain": [
              "array([[ 13.0799088 ],\n",
              "       [-33.92920722],\n",
              "       [ 13.07749518]])"
            ]
          },
          "metadata": {
            "tags": []
          },
          "execution_count": 22
        }
      ]
    },
    {
      "cell_type": "code",
      "metadata": {
        "id": "JhE-8TjAMGH3"
      },
      "source": [
        "def calculate_output(instance):\n",
        "  hidden_layer = sigmoid(np.dot(instance, weights0))\n",
        "  output_layer = sigmoid(np.dot(hidden_layer, weights1))\n",
        "  return output_layer[0]"
      ],
      "execution_count": null,
      "outputs": []
    },
    {
      "cell_type": "code",
      "metadata": {
        "id": "sREzYxz7M17D",
        "outputId": "7dcd984f-87f9-4211-c224-b917c1816add",
        "colab": {
          "base_uri": "https://localhost:8080/",
          "height": 34
        }
      },
      "source": [
        "round(calculate_output(np.array([0, 0])))"
      ],
      "execution_count": null,
      "outputs": [
        {
          "output_type": "execute_result",
          "data": {
            "text/plain": [
              "0.0"
            ]
          },
          "metadata": {
            "tags": []
          },
          "execution_count": 35
        }
      ]
    },
    {
      "cell_type": "code",
      "metadata": {
        "id": "qr69mi4_OtEU",
        "colab": {
          "base_uri": "https://localhost:8080/",
          "height": 34
        },
        "outputId": "2a7f8a53-0a2c-469a-9ecd-c3d898d1a60e"
      },
      "source": [
        "round(calculate_output(np.array([0, 1])))"
      ],
      "execution_count": null,
      "outputs": [
        {
          "output_type": "execute_result",
          "data": {
            "text/plain": [
              "1.0"
            ]
          },
          "metadata": {
            "tags": []
          },
          "execution_count": 36
        }
      ]
    },
    {
      "cell_type": "code",
      "metadata": {
        "id": "Gbkji1HWOz_W",
        "colab": {
          "base_uri": "https://localhost:8080/",
          "height": 34
        },
        "outputId": "2de39a07-8a46-44f6-fbe2-287b6d1554f6"
      },
      "source": [
        "round(calculate_output(np.array([1, 0])))"
      ],
      "execution_count": null,
      "outputs": [
        {
          "output_type": "execute_result",
          "data": {
            "text/plain": [
              "1.0"
            ]
          },
          "metadata": {
            "tags": []
          },
          "execution_count": 37
        }
      ]
    },
    {
      "cell_type": "code",
      "metadata": {
        "id": "2Ss3ewW3O2GS",
        "colab": {
          "base_uri": "https://localhost:8080/",
          "height": 34
        },
        "outputId": "37cfeec3-5c7d-4281-ba2f-152430519b52"
      },
      "source": [
        "round(calculate_output(np.array([1, 1])))"
      ],
      "execution_count": null,
      "outputs": [
        {
          "output_type": "execute_result",
          "data": {
            "text/plain": [
              "0.0"
            ]
          },
          "metadata": {
            "tags": []
          },
          "execution_count": 38
        }
      ]
    }
  ]
}