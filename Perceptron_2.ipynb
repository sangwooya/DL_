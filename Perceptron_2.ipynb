{
  "nbformat": 4,
  "nbformat_minor": 0,
  "metadata": {
    "colab": {
      "provenance": [],
      "include_colab_link": true
    },
    "kernelspec": {
      "name": "python3",
      "display_name": "Python 3"
    }
  },
  "cells": [
    {
      "cell_type": "markdown",
      "metadata": {
        "id": "view-in-github",
        "colab_type": "text"
      },
      "source": [
        "<a href=\"https://colab.research.google.com/github/sangwooya/DL_/blob/main/Perceptron_2.ipynb\" target=\"_parent\"><img src=\"https://colab.research.google.com/assets/colab-badge.svg\" alt=\"Open In Colab\"/></a>"
      ]
    },
    {
      "cell_type": "markdown",
      "metadata": {
        "id": "zGrQyZxaxzW-"
      },
      "source": [
        "# Perceptron 2"
      ]
    },
    {
      "cell_type": "markdown",
      "metadata": {
        "id": "FICx1YXhWGTv"
      },
      "source": [
        "## Inputs and weights"
      ]
    },
    {
      "cell_type": "code",
      "metadata": {
        "id": "rDdLaCwFW63a"
      },
      "source": [
        "import numpy as np"
      ],
      "execution_count": null,
      "outputs": []
    },
    {
      "cell_type": "code",
      "metadata": {
        "id": "6tRoeNH43B2j"
      },
      "source": [
        "inputs = np.array([35, 25])"
      ],
      "execution_count": null,
      "outputs": []
    },
    {
      "cell_type": "code",
      "metadata": {
        "id": "khYpcnr8A2Ih",
        "outputId": "e8725654-5e35-4ca8-b2e9-a99c75048829",
        "colab": {
          "base_uri": "https://localhost:8080/",
          "height": 34
        }
      },
      "source": [
        "type(inputs)"
      ],
      "execution_count": null,
      "outputs": [
        {
          "output_type": "execute_result",
          "data": {
            "text/plain": [
              "numpy.ndarray"
            ]
          },
          "metadata": {
            "tags": []
          },
          "execution_count": 5
        }
      ]
    },
    {
      "cell_type": "code",
      "metadata": {
        "id": "S2WgHWTN39VL"
      },
      "source": [
        "weights = np.array([-0.8, 0.1])"
      ],
      "execution_count": null,
      "outputs": []
    },
    {
      "cell_type": "markdown",
      "metadata": {
        "id": "a6qJMIIuWI7w"
      },
      "source": [
        "## Sum function"
      ]
    },
    {
      "cell_type": "code",
      "metadata": {
        "id": "0MVkjeS75JC2"
      },
      "source": [
        "def sum(inputs, weights):\n",
        "  return inputs.dot(weights)"
      ],
      "execution_count": null,
      "outputs": []
    },
    {
      "cell_type": "code",
      "metadata": {
        "id": "GP67RkcO6vp7"
      },
      "source": [
        "s = sum(inputs, weights)"
      ],
      "execution_count": null,
      "outputs": []
    },
    {
      "cell_type": "code",
      "metadata": {
        "id": "CavUmDUcEfot",
        "outputId": "77b293ee-54a5-451d-fee0-9bf0683e25fa",
        "colab": {
          "base_uri": "https://localhost:8080/",
          "height": 34
        }
      },
      "source": [
        "s"
      ],
      "execution_count": null,
      "outputs": [
        {
          "output_type": "execute_result",
          "data": {
            "text/plain": [
              "-25.5"
            ]
          },
          "metadata": {
            "tags": []
          },
          "execution_count": 16
        }
      ]
    },
    {
      "cell_type": "markdown",
      "metadata": {
        "id": "awScPH59WLZz"
      },
      "source": [
        "## Step function"
      ]
    },
    {
      "cell_type": "code",
      "metadata": {
        "id": "IvWGnZmK8EN3"
      },
      "source": [
        "def step_function(sum):\n",
        "  if (sum >= 1):\n",
        "    return 1\n",
        "  return 0"
      ],
      "execution_count": null,
      "outputs": []
    },
    {
      "cell_type": "markdown",
      "metadata": {
        "id": "3Y0ySDI7WNRO"
      },
      "source": [
        "## Final result"
      ]
    },
    {
      "cell_type": "code",
      "metadata": {
        "id": "YbLxiisv8qgT",
        "outputId": "50aa686b-2de5-482e-a798-4d53b1c702b1",
        "colab": {
          "base_uri": "https://localhost:8080/",
          "height": 34
        }
      },
      "source": [
        "step_function(s)"
      ],
      "execution_count": null,
      "outputs": [
        {
          "output_type": "execute_result",
          "data": {
            "text/plain": [
              "0"
            ]
          },
          "metadata": {
            "tags": []
          },
          "execution_count": 18
        }
      ]
    }
  ]
}